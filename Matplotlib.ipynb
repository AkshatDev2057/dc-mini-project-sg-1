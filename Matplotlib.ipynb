{
  "nbformat": 4,
  "nbformat_minor": 0,
  "metadata": {
    "colab": {
      "provenance": [],
      "include_colab_link": true
    },
    "kernelspec": {
      "name": "python3",
      "display_name": "Python 3"
    },
    "language_info": {
      "name": "python"
    }
  },
  "cells": [
    {
      "cell_type": "markdown",
      "metadata": {
        "id": "view-in-github",
        "colab_type": "text"
      },
      "source": [
        "<a href=\"https://colab.research.google.com/github/AkshatDev2057/dc-mini-project-sg-1/blob/main/Matplotlib.ipynb\" target=\"_parent\"><img src=\"https://colab.research.google.com/assets/colab-badge.svg\" alt=\"Open In Colab\"/></a>"
      ]
    },
    {
      "cell_type": "markdown",
      "source": [
        "#MatPlotLib\n",
        "\n",
        "It is the most widely used visualization library. We can simplify our lives by interpreting data in the form of charts and graphs!\n",
        "\n",
        "MatPlotLib is a vast library and it might get confusing where to start.\n",
        "\n",
        "This session will get you started with basics."
      ],
      "metadata": {
        "id": "m7eRknNgdPjN"
      }
    },
    {
      "cell_type": "markdown",
      "source": [
        "Let's first import the required libraries"
      ],
      "metadata": {
        "id": "kpXaw362halE"
      }
    },
    {
      "cell_type": "code",
      "source": [
        "from matplotlib import pyplot as plt\n",
        "import numpy as np\n",
        "import pandas as pd"
      ],
      "metadata": {
        "id": "9b4ami5NdO_7"
      },
      "execution_count": null,
      "outputs": []
    },
    {
      "cell_type": "markdown",
      "source": [
        "Now, let's load a few datasets and use it to plot the data"
      ],
      "metadata": {
        "id": "9Tn5Ik0xh1dM"
      }
    },
    {
      "cell_type": "code",
      "source": [
        "# Reading the meal info csv file\n",
        "df_meal = pd.read_csv('meal_info.csv')\n",
        "\n",
        "# Reading fulfilment center info csv file\n",
        "df_center = pd.read_csv('fulfilment_center_info.csv')\n",
        "\n",
        "# Reading train food csv file\n",
        "df_food = pd.read_csv('train_food.csv')"
      ],
      "metadata": {
        "id": "8W5iSEL9dIX6",
        "colab": {
          "base_uri": "https://localhost:8080/",
          "height": 356
        },
        "outputId": "b2c658ba-16a3-4f36-ba74-403ea955c047"
      },
      "execution_count": null,
      "outputs": [
        {
          "output_type": "error",
          "ename": "EmptyDataError",
          "evalue": "No columns to parse from file",
          "traceback": [
            "\u001b[0;31m---------------------------------------------------------------------------\u001b[0m",
            "\u001b[0;31mEmptyDataError\u001b[0m                            Traceback (most recent call last)",
            "\u001b[0;32m<ipython-input-4-676c68cfc418>\u001b[0m in \u001b[0;36m<cell line: 8>\u001b[0;34m()\u001b[0m\n\u001b[1;32m      6\u001b[0m \u001b[0;34m\u001b[0m\u001b[0m\n\u001b[1;32m      7\u001b[0m \u001b[0;31m# Reading train food csv file\u001b[0m\u001b[0;34m\u001b[0m\u001b[0;34m\u001b[0m\u001b[0m\n\u001b[0;32m----> 8\u001b[0;31m \u001b[0mdf_food\u001b[0m \u001b[0;34m=\u001b[0m \u001b[0mpd\u001b[0m\u001b[0;34m.\u001b[0m\u001b[0mread_csv\u001b[0m\u001b[0;34m(\u001b[0m\u001b[0;34m'train_food.csv'\u001b[0m\u001b[0;34m)\u001b[0m\u001b[0;34m\u001b[0m\u001b[0;34m\u001b[0m\u001b[0m\n\u001b[0m",
            "\u001b[0;32m/usr/local/lib/python3.10/dist-packages/pandas/io/parsers/readers.py\u001b[0m in \u001b[0;36mread_csv\u001b[0;34m(filepath_or_buffer, sep, delimiter, header, names, index_col, usecols, dtype, engine, converters, true_values, false_values, skipinitialspace, skiprows, skipfooter, nrows, na_values, keep_default_na, na_filter, verbose, skip_blank_lines, parse_dates, infer_datetime_format, keep_date_col, date_parser, date_format, dayfirst, cache_dates, iterator, chunksize, compression, thousands, decimal, lineterminator, quotechar, quoting, doublequote, escapechar, comment, encoding, encoding_errors, dialect, on_bad_lines, delim_whitespace, low_memory, memory_map, float_precision, storage_options, dtype_backend)\u001b[0m\n\u001b[1;32m   1024\u001b[0m     \u001b[0mkwds\u001b[0m\u001b[0;34m.\u001b[0m\u001b[0mupdate\u001b[0m\u001b[0;34m(\u001b[0m\u001b[0mkwds_defaults\u001b[0m\u001b[0;34m)\u001b[0m\u001b[0;34m\u001b[0m\u001b[0;34m\u001b[0m\u001b[0m\n\u001b[1;32m   1025\u001b[0m \u001b[0;34m\u001b[0m\u001b[0m\n\u001b[0;32m-> 1026\u001b[0;31m     \u001b[0;32mreturn\u001b[0m \u001b[0m_read\u001b[0m\u001b[0;34m(\u001b[0m\u001b[0mfilepath_or_buffer\u001b[0m\u001b[0;34m,\u001b[0m \u001b[0mkwds\u001b[0m\u001b[0;34m)\u001b[0m\u001b[0;34m\u001b[0m\u001b[0;34m\u001b[0m\u001b[0m\n\u001b[0m\u001b[1;32m   1027\u001b[0m \u001b[0;34m\u001b[0m\u001b[0m\n\u001b[1;32m   1028\u001b[0m \u001b[0;34m\u001b[0m\u001b[0m\n",
            "\u001b[0;32m/usr/local/lib/python3.10/dist-packages/pandas/io/parsers/readers.py\u001b[0m in \u001b[0;36m_read\u001b[0;34m(filepath_or_buffer, kwds)\u001b[0m\n\u001b[1;32m    618\u001b[0m \u001b[0;34m\u001b[0m\u001b[0m\n\u001b[1;32m    619\u001b[0m     \u001b[0;31m# Create the parser.\u001b[0m\u001b[0;34m\u001b[0m\u001b[0;34m\u001b[0m\u001b[0m\n\u001b[0;32m--> 620\u001b[0;31m     \u001b[0mparser\u001b[0m \u001b[0;34m=\u001b[0m \u001b[0mTextFileReader\u001b[0m\u001b[0;34m(\u001b[0m\u001b[0mfilepath_or_buffer\u001b[0m\u001b[0;34m,\u001b[0m \u001b[0;34m**\u001b[0m\u001b[0mkwds\u001b[0m\u001b[0;34m)\u001b[0m\u001b[0;34m\u001b[0m\u001b[0;34m\u001b[0m\u001b[0m\n\u001b[0m\u001b[1;32m    621\u001b[0m \u001b[0;34m\u001b[0m\u001b[0m\n\u001b[1;32m    622\u001b[0m     \u001b[0;32mif\u001b[0m \u001b[0mchunksize\u001b[0m \u001b[0;32mor\u001b[0m \u001b[0miterator\u001b[0m\u001b[0;34m:\u001b[0m\u001b[0;34m\u001b[0m\u001b[0;34m\u001b[0m\u001b[0m\n",
            "\u001b[0;32m/usr/local/lib/python3.10/dist-packages/pandas/io/parsers/readers.py\u001b[0m in \u001b[0;36m__init__\u001b[0;34m(self, f, engine, **kwds)\u001b[0m\n\u001b[1;32m   1618\u001b[0m \u001b[0;34m\u001b[0m\u001b[0m\n\u001b[1;32m   1619\u001b[0m         \u001b[0mself\u001b[0m\u001b[0;34m.\u001b[0m\u001b[0mhandles\u001b[0m\u001b[0;34m:\u001b[0m \u001b[0mIOHandles\u001b[0m \u001b[0;34m|\u001b[0m \u001b[0;32mNone\u001b[0m \u001b[0;34m=\u001b[0m \u001b[0;32mNone\u001b[0m\u001b[0;34m\u001b[0m\u001b[0;34m\u001b[0m\u001b[0m\n\u001b[0;32m-> 1620\u001b[0;31m         \u001b[0mself\u001b[0m\u001b[0;34m.\u001b[0m\u001b[0m_engine\u001b[0m \u001b[0;34m=\u001b[0m \u001b[0mself\u001b[0m\u001b[0;34m.\u001b[0m\u001b[0m_make_engine\u001b[0m\u001b[0;34m(\u001b[0m\u001b[0mf\u001b[0m\u001b[0;34m,\u001b[0m \u001b[0mself\u001b[0m\u001b[0;34m.\u001b[0m\u001b[0mengine\u001b[0m\u001b[0;34m)\u001b[0m\u001b[0;34m\u001b[0m\u001b[0;34m\u001b[0m\u001b[0m\n\u001b[0m\u001b[1;32m   1621\u001b[0m \u001b[0;34m\u001b[0m\u001b[0m\n\u001b[1;32m   1622\u001b[0m     \u001b[0;32mdef\u001b[0m \u001b[0mclose\u001b[0m\u001b[0;34m(\u001b[0m\u001b[0mself\u001b[0m\u001b[0;34m)\u001b[0m \u001b[0;34m->\u001b[0m \u001b[0;32mNone\u001b[0m\u001b[0;34m:\u001b[0m\u001b[0;34m\u001b[0m\u001b[0;34m\u001b[0m\u001b[0m\n",
            "\u001b[0;32m/usr/local/lib/python3.10/dist-packages/pandas/io/parsers/readers.py\u001b[0m in \u001b[0;36m_make_engine\u001b[0;34m(self, f, engine)\u001b[0m\n\u001b[1;32m   1896\u001b[0m \u001b[0;34m\u001b[0m\u001b[0m\n\u001b[1;32m   1897\u001b[0m         \u001b[0;32mtry\u001b[0m\u001b[0;34m:\u001b[0m\u001b[0;34m\u001b[0m\u001b[0;34m\u001b[0m\u001b[0m\n\u001b[0;32m-> 1898\u001b[0;31m             \u001b[0;32mreturn\u001b[0m \u001b[0mmapping\u001b[0m\u001b[0;34m[\u001b[0m\u001b[0mengine\u001b[0m\u001b[0;34m]\u001b[0m\u001b[0;34m(\u001b[0m\u001b[0mf\u001b[0m\u001b[0;34m,\u001b[0m \u001b[0;34m**\u001b[0m\u001b[0mself\u001b[0m\u001b[0;34m.\u001b[0m\u001b[0moptions\u001b[0m\u001b[0;34m)\u001b[0m\u001b[0;34m\u001b[0m\u001b[0;34m\u001b[0m\u001b[0m\n\u001b[0m\u001b[1;32m   1899\u001b[0m         \u001b[0;32mexcept\u001b[0m \u001b[0mException\u001b[0m\u001b[0;34m:\u001b[0m\u001b[0;34m\u001b[0m\u001b[0;34m\u001b[0m\u001b[0m\n\u001b[1;32m   1900\u001b[0m             \u001b[0;32mif\u001b[0m \u001b[0mself\u001b[0m\u001b[0;34m.\u001b[0m\u001b[0mhandles\u001b[0m \u001b[0;32mis\u001b[0m \u001b[0;32mnot\u001b[0m \u001b[0;32mNone\u001b[0m\u001b[0;34m:\u001b[0m\u001b[0;34m\u001b[0m\u001b[0;34m\u001b[0m\u001b[0m\n",
            "\u001b[0;32m/usr/local/lib/python3.10/dist-packages/pandas/io/parsers/c_parser_wrapper.py\u001b[0m in \u001b[0;36m__init__\u001b[0;34m(self, src, **kwds)\u001b[0m\n\u001b[1;32m     91\u001b[0m             \u001b[0;31m# Fail here loudly instead of in cython after reading\u001b[0m\u001b[0;34m\u001b[0m\u001b[0;34m\u001b[0m\u001b[0m\n\u001b[1;32m     92\u001b[0m             \u001b[0mimport_optional_dependency\u001b[0m\u001b[0;34m(\u001b[0m\u001b[0;34m\"pyarrow\"\u001b[0m\u001b[0;34m)\u001b[0m\u001b[0;34m\u001b[0m\u001b[0;34m\u001b[0m\u001b[0m\n\u001b[0;32m---> 93\u001b[0;31m         \u001b[0mself\u001b[0m\u001b[0;34m.\u001b[0m\u001b[0m_reader\u001b[0m \u001b[0;34m=\u001b[0m \u001b[0mparsers\u001b[0m\u001b[0;34m.\u001b[0m\u001b[0mTextReader\u001b[0m\u001b[0;34m(\u001b[0m\u001b[0msrc\u001b[0m\u001b[0;34m,\u001b[0m \u001b[0;34m**\u001b[0m\u001b[0mkwds\u001b[0m\u001b[0;34m)\u001b[0m\u001b[0;34m\u001b[0m\u001b[0;34m\u001b[0m\u001b[0m\n\u001b[0m\u001b[1;32m     94\u001b[0m \u001b[0;34m\u001b[0m\u001b[0m\n\u001b[1;32m     95\u001b[0m         \u001b[0mself\u001b[0m\u001b[0;34m.\u001b[0m\u001b[0munnamed_cols\u001b[0m \u001b[0;34m=\u001b[0m \u001b[0mself\u001b[0m\u001b[0;34m.\u001b[0m\u001b[0m_reader\u001b[0m\u001b[0;34m.\u001b[0m\u001b[0munnamed_cols\u001b[0m\u001b[0;34m\u001b[0m\u001b[0;34m\u001b[0m\u001b[0m\n",
            "\u001b[0;32mparsers.pyx\u001b[0m in \u001b[0;36mpandas._libs.parsers.TextReader.__cinit__\u001b[0;34m()\u001b[0m\n",
            "\u001b[0;31mEmptyDataError\u001b[0m: No columns to parse from file"
          ]
        }
      ]
    },
    {
      "cell_type": "code",
      "execution_count": null,
      "metadata": {
        "id": "eiwjdwToVFao"
      },
      "outputs": [],
      "source": [
        "# Merge dataframes\n",
        "df = pd.merge(df_food,df_center,on='center_id')\n",
        "df = pd.merge(df,df_meal,on='meal_id')"
      ]
    },
    {
      "cell_type": "code",
      "source": [
        "df.head()"
      ],
      "metadata": {
        "id": "kVg6XkQEemfn"
      },
      "execution_count": null,
      "outputs": []
    },
    {
      "cell_type": "markdown",
      "source": [
        "##**BAR GRAPH**"
      ],
      "metadata": {
        "id": "GD9Dp_pY3yRU"
      }
    },
    {
      "cell_type": "markdown",
      "source": [
        "Let's create a table to help us plot the graph"
      ],
      "metadata": {
        "id": "GstW0P-i3th4"
      }
    },
    {
      "cell_type": "code",
      "source": [
        "# Pivot table\n",
        "table = pd.pivot_table(data=df,index='category',values='num_orders',aggfunc=np.sum)\n",
        "table"
      ],
      "metadata": {
        "id": "mgIrJD8V3b_9"
      },
      "execution_count": null,
      "outputs": []
    },
    {
      "cell_type": "code",
      "source": [
        "# Barplot\n",
        "plt.bar(table.index, table['num_orders'])\n",
        "plt.xticks(rotation=60)\n",
        "plt.xlabel('Food item')\n",
        "plt.ylabel('Quantity sold')\n",
        "plt.title('Most popular food')\n",
        "plt.show()"
      ],
      "metadata": {
        "id": "s9OY4Omb4LVY"
      },
      "execution_count": null,
      "outputs": []
    },
    {
      "cell_type": "markdown",
      "source": [
        "Let's understand each of the commands one by one\n",
        "\n",
        "`plt.bar(table.index, table['num_orders'])` : creates a bar graph with index of the table on x-axis ('Food item') and number on orders on the y-axis\n",
        "\n",
        "`plt.xticks(rotation=60)` : rotates x-axis labels by 60 degree for better readibility\n",
        "\n",
        "`plt.xlabel('Food item')` : sets label for the x-axis\n",
        "\n",
        "`plt.ylabel('Quantity sold')` : sets label for the y-axis\n",
        "\n",
        "`plt.title('Most popular food')` : sets title for the graph\n",
        "\n",
        "`plt.show()` : displays the plot"
      ],
      "metadata": {
        "id": "07GRES0r6jrc"
      }
    },
    {
      "cell_type": "markdown",
      "source": [
        "##**PIE CHART**"
      ],
      "metadata": {
        "id": "CYNgV9Y-cgxR"
      }
    },
    {
      "cell_type": "code",
      "source": [
        "# dictionary for cuisine and its total orders\n",
        "d_cuisine = {}\n",
        "\n",
        "# total number of order\n",
        "total = df['num_orders'].sum()\n",
        "\n",
        "# find ratio of orders per cuisine\n",
        "for i in range(df['cuisine'].nunique()):\n",
        "\n",
        "  # cuisine\n",
        "  c = df['cuisine'].unique()[i]\n",
        "\n",
        "  # num of orders for the cuisine\n",
        "  c_order = df[df['cuisine']==c]['num_orders'].sum()\n",
        "  d_cuisine[c] = c_order/total"
      ],
      "metadata": {
        "id": "e_KGlRJgdZC_"
      },
      "execution_count": null,
      "outputs": []
    },
    {
      "cell_type": "code",
      "source": [
        "#pie plot\n",
        "plt.pie([x*100 for x in d_cuisine.values()], labels=[x for x in d_cuisine.keys()], autopct='%0.01f')\n",
        "\n",
        "#label the plot\n",
        "plt.title('Cuisine share %')\n",
        "plt.show()"
      ],
      "metadata": {
        "id": "3iGHZBuJdl-5"
      },
      "execution_count": null,
      "outputs": []
    },
    {
      "cell_type": "markdown",
      "source": [
        "Let's discuss the arguments of `plt.pie()`\n",
        "\n",
        "`[x*100 for x in d_cuisine.values()]` determines the sizes of the sectors\n",
        "\n",
        "`labels=[x for x in d_cuisine.keys()]` determines the labels which are the names of cuisines\n",
        "\n",
        "`autopct='%0.1f` prints the percentage values within pie chart upto one decimal place\n",
        "\n",
        "\n",
        "\n",
        "\n"
      ],
      "metadata": {
        "id": "kpYEQkvJfyBw"
      }
    },
    {
      "cell_type": "markdown",
      "source": [
        "##**HISTOGRAM**"
      ],
      "metadata": {
        "id": "sz89xwnYhqaY"
      }
    },
    {
      "cell_type": "markdown",
      "source": [
        "Let's see how price ranges affect the number of orders"
      ],
      "metadata": {
        "id": "cWY5xfqu36NI"
      }
    },
    {
      "cell_type": "code",
      "source": [
        "# plotting histogram\n",
        "plt.hist(df['base_price'], rwidth=1, alpha=1, color='yellow', bins=10, edgecolor='red')\n",
        "\n",
        "# x and y-axis labels\n",
        "plt.xlabel('Base price range')\n",
        "plt.ylabel('Distinct order')\n",
        "\n",
        "# plot title\n",
        "plt.title('Inspecting price effect')\n",
        "\n",
        "# display the plot\n",
        "plt.show()"
      ],
      "metadata": {
        "id": "b6hyuAF5eFHl"
      },
      "execution_count": null,
      "outputs": []
    },
    {
      "cell_type": "markdown",
      "source": [
        "`df['base_price']` creates a histogram based on 'base price'\n",
        "\n",
        "`rwidth=0.9` sets the relative width of bars\n",
        "\n",
        "`alpha=0.3` sets transparency level of the bars\n",
        "\n",
        "`color='red'` sets the colour of the bars\n",
        "\n",
        "`edgecolor='red'` sets the edge colour of the bars\n",
        "\n",
        "`bins=20` sets the total no. of bars"
      ],
      "metadata": {
        "id": "MrPczaonj026"
      }
    },
    {
      "cell_type": "markdown",
      "source": [
        "##**SCATTER PLOT**"
      ],
      "metadata": {
        "id": "jV4uALWGmOrd"
      }
    },
    {
      "cell_type": "markdown",
      "source": [
        "Let's see how the operational area affects the number of orders"
      ],
      "metadata": {
        "id": "HwdW9fQ54AS4"
      }
    },
    {
      "cell_type": "code",
      "source": [
        "#relation between op area and number of orders\n",
        "op_table=pd.pivot_table(df,index='op_area', values='num_orders', aggfunc=np.sum)\n",
        "print(op_table.head())\n",
        "\n",
        "#scatter plots\n",
        "plt.scatter(op_table.index, op_table['num_orders'], marker='s')\n",
        "\n",
        "#label\n",
        "plt.xlabel('Operation area')\n",
        "plt.ylabel('Number of orders')\n",
        "plt.title('Does operation area affect num of orders?')\n",
        "plt.savefig('scatter.png')\n",
        "plt.show()"
      ],
      "metadata": {
        "id": "QddpyV-tiT0h"
      },
      "execution_count": null,
      "outputs": []
    },
    {
      "cell_type": "markdown",
      "source": [
        "##**LINE PLOT**"
      ],
      "metadata": {
        "id": "vLVon9u752il"
      }
    },
    {
      "cell_type": "markdown",
      "source": [
        "Let's add a new column for revenue and perform some analysis"
      ],
      "metadata": {
        "id": "83g9XZeK7VOm"
      }
    },
    {
      "cell_type": "code",
      "source": [
        "#new revenue column\n",
        "df['revenue'] = df.apply(lambda x: x.checkout_price*x.num_orders,axis=1)\n",
        "\n",
        "#new month column\n",
        "df['month'] = df['week'].apply(lambda x: x//4)\n",
        "\n",
        "#list to store month-wise revenue\n",
        "month=[]\n",
        "month_order=[]\n",
        "\n",
        "for i in range(int(max(df['month']))):\n",
        "    month.append(i)\n",
        "    month_order.append(df[df['month']==i].revenue.sum())\n",
        "\n",
        "#list to store week-wise revenue\n",
        "week=[]\n",
        "week_order=[]\n",
        "\n",
        "for i in range(int(max(df['week']))):\n",
        "    week.append(i)\n",
        "    week_order.append(df[df['week']==i].revenue.sum())"
      ],
      "metadata": {
        "id": "ihhEH7hN7Lgm"
      },
      "execution_count": null,
      "outputs": []
    },
    {
      "cell_type": "markdown",
      "source": [
        "`lambda x: x.checkout_price * x.num_orders` defines a lambda function that multiplies 'checkout_price' and 'num_orders' for each row x.\n",
        "\n",
        "`apply() with axis=1` applies this lambda function along each row of the DataFrame (df), resulting in a new 'revenue' column."
      ],
      "metadata": {
        "id": "BOJNYxAnal4x"
      }
    },
    {
      "cell_type": "markdown",
      "source": [
        " We will compare the revenue of the company in every week as well as in every month using two line-plots drawn side by side.\n",
        "\n",
        " For this, let's use `plt.subplots()` function.\n"
      ],
      "metadata": {
        "id": "1wlXwBQg7Q7V"
      }
    },
    {
      "cell_type": "code",
      "source": [
        "#subplots returns a Figure and an Axes object\n",
        "fig, ax = plt.subplots(nrows=1, ncols=2, figsize=(25,5))\n",
        "\n",
        "#manipulating the first Axes\n",
        "ax[0].plot(week,week_order)\n",
        "ax[0].set_xlabel('Week')\n",
        "ax[0].set_ylabel('Revenue')\n",
        "ax[0].set_title('Weekly income')\n",
        "\n",
        "#manipulating the second Axes\n",
        "ax[1].plot(month,month_order)\n",
        "ax[1].set_xlabel('Month')\n",
        "ax[1].set_ylabel('Revenue')\n",
        "ax[1].set_title('Monthly income')\n",
        "\n",
        "#display the plot\n",
        "plt.show"
      ],
      "metadata": {
        "id": "R2xaaueo8Vte"
      },
      "execution_count": null,
      "outputs": []
    },
    {
      "cell_type": "markdown",
      "source": [
        "##**Reading Images**"
      ],
      "metadata": {
        "id": "J1gTz8S2XIU0"
      }
    },
    {
      "cell_type": "code",
      "source": [
        "import matplotlib.image as img\n",
        "\n",
        "image = img.imread(\"scatter.png\")  #reading the image\n",
        "plt.imshow(image)                 #plotting the image"
      ],
      "metadata": {
        "id": "MDvO0IHu8hLk"
      },
      "execution_count": null,
      "outputs": []
    },
    {
      "cell_type": "markdown",
      "source": [
        "##MatPlotLib Documentation\n",
        "To explore more checkout this website!\\\n",
        "https://matplotlib.org/stable/index.html"
      ],
      "metadata": {
        "id": "-O8dF2qr-_uX"
      }
    }
  ]
}